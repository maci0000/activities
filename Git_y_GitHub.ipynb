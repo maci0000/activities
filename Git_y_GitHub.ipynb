{
  "cells": [
    {
      "cell_type": "markdown",
      "metadata": {
        "id": "-xW7BSvenKOK"
      },
      "source": [
        "# GIT Y GITHUB\n",
        "\n",
        "\n",
        "\n",
        "## GIT (https://git-scm.com/)\n",
        "\n",
        "Git es un Sistema de Control de Versiones (CVS) para rastrear cambios en tu computador.\n",
        "\n",
        "- Control de Versiones distribuída.\n",
        "- Coordina trabajo entre múltiples desarrolladores.\n",
        "- Permite saber quién hace los cambios y cuándo.\n",
        "- Puede volver a versiones pasada en cualquier momento.\n",
        "- Los repositorios pueden ser locales o remotos.\n",
        "\n",
        "<Documentación de Git> https://git-scm.com/book/es/v2\n",
        "\n",
        "### Conceptos de Git\n",
        "- Mantener la traza de la historia del código.\n",
        "- Toma \"instantáneas\" de archivos.\n",
        "- El(los) desarrolladores deciden cuando hacer cada \"instantanea\" realizando un \"commit\" (confirmar).\n",
        "- Puedes visitar cualquier instantánea en cualquier tiempo.\n",
        "- Puedes organizar los archivos antes de confirmar\n",
        "\n",
        "### Comandos básicos:\n",
        "\n",
        "Git interactúa con el SO y se maneja desde el Bash (similar consola)con conceptos de UNIX\n",
        "\n",
        "- git init          - permite crear un proyecto nuevo utilizando git\n",
        "- git add <file>    - permite pasar los archivos al stating area\n",
        "- git status        - permite saber en que estados están los archivos\n",
        "- git commit        - permite pasar los archivos del stating area al repositorio (creando una insatanánea).\n",
        "- git log           - muestra un id de la instantánea creado.\n",
        "- git push          - permite pasar los archivos del stating area a un repositorio remoto en el que pueden acceder otros\n",
        "desarrolladores.\n",
        "- git pull          - permite traer los archivos de un respositorio remoto que pueden ser realizados por otros\n",
        "desarrolladores.\n",
        "- git clone         - realiza una copia desde el servidor central al computador.\n",
        "- git diff          - permite comparar los cambios realizado comparando entre una versión anterior con la reciente modificada.\n",
        "- git branch        - visualiza las ramas de trabajo creadas de los proyectos.\n",
        "- git checkout      - Cambia de rama de trabajo\n",
        "\n",
        "\n",
        "Git tiene tres estados:\n",
        "\n",
        "- Working area - Aquí es donde se trabaja con los archivos que luego pasan a:\n",
        "- Stating area - Aquí se prepara todos los archivos para luesgo ser confirmados a:\n",
        "- Repository - Aquí se almacena las versiones.\n",
        "\n",
        "    \n",
        "\n",
        "### GitHub\n",
        "\n",
        "GitHub: https://github.com es OpenSource\n",
        "\n",
        "Repositorio de código: es una plataforma web donde es posible subir múltiples respositorio y en la que se puede acceder a ellos de manera pública o privada en donde múltiples desarrolladores pueden tener acceso a ésta.\n",
        "\n",
        "\n",
        "\n"
      ]
    },
    {
      "cell_type": "markdown",
      "source": [
        "# 1. Instalación de Git y Configuración Inicial\n",
        "\n",
        "* Proceso de instalación de Git en el sistema operativo (Windows)\n",
        "* Configuración inicial:\n",
        "    * Configurar el nombre de usuario y correo electrónico (necesario para identificar quién realiza cada cambio).\n",
        "    * Comando: `git config --global user.name \"Tu Nombre\"` y `git config --global user.email \"tucuenta@ejemplo.com\"`\n",
        "\n",
        "# 2. Registrando cambios en el repositorio\n",
        "\n",
        "* Comando para crear repositorio: `git init`\n",
        "\n",
        "Git tiene tres áreas:\n",
        "- Working area - Aquí es donde se trabaja con los archivos que luego pasan a:\n",
        "- Stating area - Aquí se prepara todos los archivos para luego ser confirmados a:\n",
        "- Local Repository - Aquí se almacena las versiones.\n",
        "\n",
        "* Commits: Git registra el estado actual del index del repositorio y lo almacena en el objeto correspondiente\n",
        "\n",
        "Comando:\n",
        "- `git add` para agregar archivos al área de preparación (staging).\n",
        "- `git commit` para crear un commit.\n",
        "\n",
        "![Git estados](https://git-scm.com/book/en/v2/images/lifecycle.png)\n",
        "\n",
        "\n",
        "\n",
        "\n"
      ],
      "metadata": {
        "id": "vQtxtBzGoQQN"
      }
    },
    {
      "cell_type": "code",
      "source": [],
      "metadata": {
        "id": "naTgdA1SwLB1"
      },
      "execution_count": null,
      "outputs": []
    }
  ],
  "metadata": {
    "kernelspec": {
      "display_name": "Python 3",
      "language": "python",
      "name": "python3"
    },
    "language_info": {
      "codemirror_mode": {
        "name": "ipython",
        "version": 3
      },
      "file_extension": ".py",
      "mimetype": "text/x-python",
      "name": "python",
      "nbconvert_exporter": "python",
      "pygments_lexer": "ipython3",
      "version": "3.7.3"
    },
    "colab": {
      "provenance": []
    }
  },
  "nbformat": 4,
  "nbformat_minor": 0
}